{
 "cells": [
  {
   "cell_type": "code",
   "execution_count": 3,
   "id": "86447844",
   "metadata": {},
   "outputs": [
    {
     "name": "stdout",
     "output_type": "stream",
     "text": [
      "<class 'pandas.core.frame.DataFrame'>\n",
      "RangeIndex: 517 entries, 0 to 516\n",
      "Data columns (total 15 columns):\n",
      " #   Column                   Non-Null Count  Dtype  \n",
      "---  ------                   --------------  -----  \n",
      " 0   Unnamed: 0               517 non-null    int64  \n",
      " 1   Loan_ID                  517 non-null    object \n",
      " 2   Dependents               517 non-null    object \n",
      " 3   ApplicantIncome          517 non-null    int64  \n",
      " 4   CoapplicantIncome        517 non-null    float64\n",
      " 5   LoanAmount               517 non-null    float64\n",
      " 6   Loan_Amount_Term         517 non-null    float64\n",
      " 7   Credit_History           517 non-null    float64\n",
      " 8   gender_Male              517 non-null    int64  \n",
      " 9   married_Yes              517 non-null    int64  \n",
      " 10  education_Not Graduate   517 non-null    int64  \n",
      " 11  property_area_Semiurban  517 non-null    int64  \n",
      " 12  property_area_Urban      517 non-null    int64  \n",
      " 13  self_employed_Yes        517 non-null    int64  \n",
      " 14  Loan_status_Y            517 non-null    int64  \n",
      "dtypes: float64(4), int64(9), object(2)\n",
      "memory usage: 60.7+ KB\n"
     ]
    }
   ],
   "source": [
    "import pandas as pd\n",
    "#load the data\n",
    "train =pd.read_csv(\"C:/7112/train_clean_data.csv\")\n",
    "test= pd.read_csv(\"C:/7112/train_clean_data.csv\")\n",
    "#check data set\n",
    "train.info()"
   ]
  },
  {
   "cell_type": "code",
   "execution_count": 4,
   "id": "fd0a9f54",
   "metadata": {},
   "outputs": [],
   "source": [
    "from sklearn import preprocessing\n",
    "for x in train.columns:\n",
    "    if train[x].dtype ==\"object\":\n",
    "        lbl=preprocessing.LabelEncoder()\n",
    "        lbl.fit(list(train[x].values))\n",
    "        train[x]=lbl.transform(list(train[x].values))"
   ]
  },
  {
   "cell_type": "code",
   "execution_count": null,
   "id": "030e7ed3",
   "metadata": {},
   "outputs": [],
   "source": []
  }
 ],
 "metadata": {
  "kernelspec": {
   "display_name": "Python 3 (ipykernel)",
   "language": "python",
   "name": "python3"
  },
  "language_info": {
   "codemirror_mode": {
    "name": "ipython",
    "version": 3
   },
   "file_extension": ".py",
   "mimetype": "text/x-python",
   "name": "python",
   "nbconvert_exporter": "python",
   "pygments_lexer": "ipython3",
   "version": "3.11.4"
  }
 },
 "nbformat": 4,
 "nbformat_minor": 5
}
